{
 "cells": [
  {
   "cell_type": "markdown",
   "metadata": {
    "slideshow": {
     "slide_type": "slide"
    }
   },
   "source": [
    "### Load tensorflow"
   ]
  },
  {
   "cell_type": "code",
   "execution_count": 1,
   "metadata": {},
   "outputs": [],
   "source": [
    "import tensorflow as tf\n",
    "tf.reset_default_graph()"
   ]
  },
  {
   "cell_type": "code",
   "execution_count": 2,
   "metadata": {},
   "outputs": [
    {
     "data": {
      "text/plain": [
       "'2.2.4-tf'"
      ]
     },
     "execution_count": 2,
     "metadata": {},
     "output_type": "execute_result"
    }
   ],
   "source": [
    "tf.keras.__version__"
   ]
  },
  {
   "cell_type": "code",
   "execution_count": 3,
   "metadata": {},
   "outputs": [
    {
     "name": "stderr",
     "output_type": "stream",
     "text": [
      "Using TensorFlow backend.\n"
     ]
    }
   ],
   "source": [
    "import keras"
   ]
  },
  {
   "cell_type": "code",
   "execution_count": 4,
   "metadata": {},
   "outputs": [
    {
     "data": {
      "text/plain": [
       "'2.2.4'"
      ]
     },
     "execution_count": 4,
     "metadata": {},
     "output_type": "execute_result"
    }
   ],
   "source": [
    "keras.__version__"
   ]
  },
  {
   "cell_type": "markdown",
   "metadata": {
    "slideshow": {
     "slide_type": "slide"
    }
   },
   "source": [
    "### Collect Data"
   ]
  },
  {
   "cell_type": "code",
   "execution_count": 5,
   "metadata": {},
   "outputs": [],
   "source": [
    "(features, actual_prices),_ = tf.keras.datasets.boston_housing.load_data(test_split=0)"
   ]
  },
  {
   "cell_type": "code",
   "execution_count": 6,
   "metadata": {
    "slideshow": {
     "slide_type": "fragment"
    }
   },
   "outputs": [
    {
     "name": "stdout",
     "output_type": "stream",
     "text": [
      "Number of examples:  506\n",
      "Number of features for each example:  13\n",
      "Shape of actual prices data:  (506,)\n"
     ]
    }
   ],
   "source": [
    "print('Number of examples: ', features.shape[0])\n",
    "print('Number of features for each example: ', features.shape[1])\n",
    "print('Shape of actual prices data: ', actual_prices.shape)"
   ]
  },
  {
   "cell_type": "markdown",
   "metadata": {
    "slideshow": {
     "slide_type": "slide"
    }
   },
   "source": [
    "### Building the graph in Keras"
   ]
  },
  {
   "cell_type": "code",
   "execution_count": 7,
   "metadata": {
    "slideshow": {
     "slide_type": "fragment"
    }
   },
   "outputs": [
    {
     "name": "stderr",
     "output_type": "stream",
     "text": [
      "WARNING: Logging before flag parsing goes to stderr.\n",
      "W0820 21:28:54.471574  9932 deprecation.py:506] From C:\\Users\\A801467\\AppData\\Local\\Continuum\\anaconda3\\envs\\tf_gpu\\lib\\site-packages\\tensorflow\\python\\ops\\init_ops.py:1251: calling VarianceScaling.__init__ (from tensorflow.python.ops.init_ops) with dtype is deprecated and will be removed in a future version.\n",
      "Instructions for updating:\n",
      "Call initializer instance with the dtype argument instead of passing it to the constructor\n"
     ]
    }
   ],
   "source": [
    "#Initialize Sequential Graph (model)\n",
    "model = tf.keras.models.Sequential()\n",
    "\n",
    "#Normalize input data\n",
    "model.add(tf.keras.layers.BatchNormalization(input_shape=(13,)))\n",
    "\n",
    "#Add Dense layer for prediction - Keras declares weights and bias automatically\n",
    "model.add(tf.keras.layers.Dense(1))\n",
    "\n",
    "#Compile the model - add Loss and Gradient Descent optimizer\n",
    "model.compile(optimizer='sgd', loss='mse')"
   ]
  },
  {
   "cell_type": "markdown",
   "metadata": {
    "slideshow": {
     "slide_type": "slide"
    }
   },
   "source": [
    "### Execute the Graph"
   ]
  },
  {
   "cell_type": "code",
   "execution_count": 8,
   "metadata": {
    "slideshow": {
     "slide_type": "fragment"
    }
   },
   "outputs": [
    {
     "name": "stdout",
     "output_type": "stream",
     "text": [
      "Epoch 1/100\n",
      "506/506 [==============================] - 0s 450us/sample - loss: 191.8080\n",
      "Epoch 2/100\n",
      "506/506 [==============================] - 0s 32us/sample - loss: 46.1158\n",
      "Epoch 3/100\n",
      "506/506 [==============================] - 0s 27us/sample - loss: 34.6626\n",
      "Epoch 4/100\n",
      "506/506 [==============================] - 0s 32us/sample - loss: 33.4111\n",
      "Epoch 5/100\n",
      "506/506 [==============================] - 0s 27us/sample - loss: 34.1746\n",
      "Epoch 6/100\n",
      "506/506 [==============================] - 0s 26us/sample - loss: 31.5538\n",
      "Epoch 7/100\n",
      "506/506 [==============================] - 0s 28us/sample - loss: 33.1331\n",
      "Epoch 8/100\n",
      "506/506 [==============================] - 0s 31us/sample - loss: 28.8324\n",
      "Epoch 9/100\n",
      "506/506 [==============================] - 0s 29us/sample - loss: 28.7228\n",
      "Epoch 10/100\n",
      "506/506 [==============================] - 0s 27us/sample - loss: 27.7741\n",
      "Epoch 11/100\n",
      "506/506 [==============================] - 0s 26us/sample - loss: 26.5044\n",
      "Epoch 12/100\n",
      "506/506 [==============================] - 0s 31us/sample - loss: 30.0548\n",
      "Epoch 13/100\n",
      "506/506 [==============================] - 0s 26us/sample - loss: 25.6531\n",
      "Epoch 14/100\n",
      "506/506 [==============================] - 0s 24us/sample - loss: 24.7068\n",
      "Epoch 15/100\n",
      "506/506 [==============================] - 0s 28us/sample - loss: 29.2944\n",
      "Epoch 16/100\n",
      "506/506 [==============================] - 0s 35us/sample - loss: 28.8915\n",
      "Epoch 17/100\n",
      "506/506 [==============================] - 0s 28us/sample - loss: 32.7989\n",
      "Epoch 18/100\n",
      "506/506 [==============================] - 0s 25us/sample - loss: 26.8325\n",
      "Epoch 19/100\n",
      "506/506 [==============================] - 0s 27us/sample - loss: 27.5289\n",
      "Epoch 20/100\n",
      "506/506 [==============================] - 0s 29us/sample - loss: 27.8072\n",
      "Epoch 21/100\n",
      "506/506 [==============================] - 0s 28us/sample - loss: 26.8120\n",
      "Epoch 22/100\n",
      "506/506 [==============================] - 0s 25us/sample - loss: 28.1314\n",
      "Epoch 23/100\n",
      "506/506 [==============================] - 0s 27us/sample - loss: 27.3314\n",
      "Epoch 24/100\n",
      "506/506 [==============================] - 0s 31us/sample - loss: 27.9927\n",
      "Epoch 25/100\n",
      "506/506 [==============================] - 0s 29us/sample - loss: 26.5088\n",
      "Epoch 26/100\n",
      "506/506 [==============================] - 0s 25us/sample - loss: 26.8770\n",
      "Epoch 27/100\n",
      "506/506 [==============================] - 0s 27us/sample - loss: 26.7458\n",
      "Epoch 28/100\n",
      "506/506 [==============================] - 0s 30us/sample - loss: 26.6627\n",
      "Epoch 29/100\n",
      "506/506 [==============================] - 0s 28us/sample - loss: 25.8952\n",
      "Epoch 30/100\n",
      "506/506 [==============================] - 0s 26us/sample - loss: 30.9931\n",
      "Epoch 31/100\n",
      "506/506 [==============================] - 0s 30us/sample - loss: 27.4873\n",
      "Epoch 32/100\n",
      "506/506 [==============================] - 0s 32us/sample - loss: 32.3761\n",
      "Epoch 33/100\n",
      "506/506 [==============================] - 0s 34us/sample - loss: 28.3299\n",
      "Epoch 34/100\n",
      "506/506 [==============================] - 0s 26us/sample - loss: 29.4869\n",
      "Epoch 35/100\n",
      "506/506 [==============================] - 0s 28us/sample - loss: 28.2619\n",
      "Epoch 36/100\n",
      "506/506 [==============================] - 0s 31us/sample - loss: 29.0017\n",
      "Epoch 37/100\n",
      "506/506 [==============================] - 0s 31us/sample - loss: 28.5536\n",
      "Epoch 38/100\n",
      "506/506 [==============================] - 0s 33us/sample - loss: 29.7386\n",
      "Epoch 39/100\n",
      "506/506 [==============================] - 0s 30us/sample - loss: 24.8720\n",
      "Epoch 40/100\n",
      "506/506 [==============================] - 0s 29us/sample - loss: 29.5371\n",
      "Epoch 41/100\n",
      "506/506 [==============================] - 0s 32us/sample - loss: 26.3200\n",
      "Epoch 42/100\n",
      "506/506 [==============================] - 0s 30us/sample - loss: 30.7005\n",
      "Epoch 43/100\n",
      "506/506 [==============================] - 0s 27us/sample - loss: 23.7801\n",
      "Epoch 44/100\n",
      "506/506 [==============================] - 0s 36us/sample - loss: 24.9461\n",
      "Epoch 45/100\n",
      "506/506 [==============================] - 0s 27us/sample - loss: 28.0152\n",
      "Epoch 46/100\n",
      "506/506 [==============================] - 0s 28us/sample - loss: 27.3213\n",
      "Epoch 47/100\n",
      "506/506 [==============================] - ETA: 0s - loss: 32.32 - 0s 28us/sample - loss: 29.9162\n",
      "Epoch 48/100\n",
      "506/506 [==============================] - 0s 28us/sample - loss: 28.7287\n",
      "Epoch 49/100\n",
      "506/506 [==============================] - 0s 28us/sample - loss: 31.8418\n",
      "Epoch 50/100\n",
      "506/506 [==============================] - 0s 29us/sample - loss: 26.5373\n",
      "Epoch 51/100\n",
      "506/506 [==============================] - 0s 31us/sample - loss: 29.2653\n",
      "Epoch 52/100\n",
      "506/506 [==============================] - 0s 27us/sample - loss: 26.8207\n",
      "Epoch 53/100\n",
      "506/506 [==============================] - 0s 32us/sample - loss: 32.1509\n",
      "Epoch 54/100\n",
      "506/506 [==============================] - 0s 27us/sample - loss: 28.9778\n",
      "Epoch 55/100\n",
      "506/506 [==============================] - 0s 27us/sample - loss: 27.2648\n",
      "Epoch 56/100\n",
      "506/506 [==============================] - 0s 31us/sample - loss: 29.0444\n",
      "Epoch 57/100\n",
      "506/506 [==============================] - 0s 30us/sample - loss: 29.8561\n",
      "Epoch 58/100\n",
      "506/506 [==============================] - 0s 26us/sample - loss: 25.4221\n",
      "Epoch 59/100\n",
      "506/506 [==============================] - 0s 28us/sample - loss: 28.6524\n",
      "Epoch 60/100\n",
      "506/506 [==============================] - 0s 28us/sample - loss: 27.4179\n",
      "Epoch 61/100\n",
      "506/506 [==============================] - 0s 24us/sample - loss: 27.4623\n",
      "Epoch 62/100\n",
      "506/506 [==============================] - 0s 25us/sample - loss: 27.8781\n",
      "Epoch 63/100\n",
      "506/506 [==============================] - 0s 29us/sample - loss: 29.7468\n",
      "Epoch 64/100\n",
      "506/506 [==============================] - 0s 25us/sample - loss: 26.0626\n",
      "Epoch 65/100\n",
      "506/506 [==============================] - 0s 32us/sample - loss: 29.9955\n",
      "Epoch 66/100\n",
      "506/506 [==============================] - 0s 34us/sample - loss: 26.3863\n",
      "Epoch 67/100\n",
      "506/506 [==============================] - 0s 27us/sample - loss: 30.0120\n",
      "Epoch 68/100\n",
      "506/506 [==============================] - 0s 31us/sample - loss: 29.3776\n",
      "Epoch 69/100\n",
      "506/506 [==============================] - 0s 28us/sample - loss: 24.3225\n",
      "Epoch 70/100\n",
      "506/506 [==============================] - 0s 29us/sample - loss: 25.7197\n",
      "Epoch 71/100\n",
      "506/506 [==============================] - 0s 29us/sample - loss: 32.7309\n",
      "Epoch 72/100\n",
      "506/506 [==============================] - 0s 26us/sample - loss: 29.3699\n",
      "Epoch 73/100\n",
      "506/506 [==============================] - 0s 25us/sample - loss: 30.9213\n",
      "Epoch 74/100\n",
      "506/506 [==============================] - 0s 25us/sample - loss: 29.4058\n",
      "Epoch 75/100\n",
      "506/506 [==============================] - 0s 29us/sample - loss: 25.1409\n",
      "Epoch 76/100\n",
      "506/506 [==============================] - 0s 34us/sample - loss: 28.2264\n",
      "Epoch 77/100\n",
      "506/506 [==============================] - 0s 27us/sample - loss: 26.0261\n",
      "Epoch 78/100\n",
      "506/506 [==============================] - 0s 30us/sample - loss: 25.4515\n",
      "Epoch 79/100\n",
      "506/506 [==============================] - 0s 29us/sample - loss: 32.8286\n",
      "Epoch 80/100\n",
      "506/506 [==============================] - 0s 25us/sample - loss: 31.9887\n",
      "Epoch 81/100\n",
      "506/506 [==============================] - 0s 25us/sample - loss: 28.9890\n",
      "Epoch 82/100\n",
      "506/506 [==============================] - 0s 23us/sample - loss: 28.2067\n",
      "Epoch 83/100\n",
      "506/506 [==============================] - 0s 28us/sample - loss: 27.9237\n",
      "Epoch 84/100\n",
      "506/506 [==============================] - 0s 29us/sample - loss: 26.3601\n",
      "Epoch 85/100\n",
      "506/506 [==============================] - 0s 25us/sample - loss: 28.4370\n",
      "Epoch 86/100\n",
      "506/506 [==============================] - 0s 24us/sample - loss: 25.5934\n",
      "Epoch 87/100\n",
      "506/506 [==============================] - 0s 26us/sample - loss: 25.8856\n",
      "Epoch 88/100\n",
      "506/506 [==============================] - 0s 29us/sample - loss: 28.0958\n",
      "Epoch 89/100\n",
      "506/506 [==============================] - 0s 24us/sample - loss: 28.8394\n",
      "Epoch 90/100\n",
      "506/506 [==============================] - 0s 25us/sample - loss: 30.4451\n",
      "Epoch 91/100\n",
      "506/506 [==============================] - 0s 26us/sample - loss: 29.3026\n",
      "Epoch 92/100\n",
      "506/506 [==============================] - 0s 29us/sample - loss: 25.8684\n",
      "Epoch 93/100\n",
      "506/506 [==============================] - 0s 25us/sample - loss: 29.2626\n",
      "Epoch 94/100\n",
      "506/506 [==============================] - 0s 28us/sample - loss: 23.8744\n"
     ]
    },
    {
     "name": "stdout",
     "output_type": "stream",
     "text": [
      "Epoch 95/100\n",
      "506/506 [==============================] - 0s 26us/sample - loss: 28.6153\n",
      "Epoch 96/100\n",
      "506/506 [==============================] - 0s 26us/sample - loss: 28.0251\n",
      "Epoch 97/100\n",
      "506/506 [==============================] - 0s 24us/sample - loss: 27.7460\n",
      "Epoch 98/100\n",
      "506/506 [==============================] - 0s 25us/sample - loss: 28.9054\n",
      "Epoch 99/100\n",
      "506/506 [==============================] - 0s 22us/sample - loss: 29.9101\n",
      "Epoch 100/100\n",
      "506/506 [==============================] - 0s 24us/sample - loss: 25.1297\n"
     ]
    },
    {
     "data": {
      "text/plain": [
       "<tensorflow.python.keras.callbacks.History at 0x1946ec4add8>"
      ]
     },
     "execution_count": 8,
     "metadata": {},
     "output_type": "execute_result"
    }
   ],
   "source": [
    "model.fit(features, actual_prices, epochs=100)"
   ]
  },
  {
   "cell_type": "markdown",
   "metadata": {
    "slideshow": {
     "slide_type": "slide"
    }
   },
   "source": [
    "### Save the model"
   ]
  },
  {
   "cell_type": "code",
   "execution_count": 10,
   "metadata": {},
   "outputs": [
    {
     "name": "stdout",
     "output_type": "stream",
     "text": [
      "Requirement already satisfied: h5py in c:\\users\\a801467\\appdata\\local\\continuum\\anaconda3\\envs\\tf_gpu\\lib\\site-packages (2.9.0)\n",
      "Requirement already satisfied: numpy>=1.7 in c:\\users\\a801467\\appdata\\local\\continuum\\anaconda3\\envs\\tf_gpu\\lib\\site-packages (from h5py) (1.16.4)\n",
      "Requirement already satisfied: six in c:\\users\\a801467\\appdata\\local\\continuum\\anaconda3\\envs\\tf_gpu\\lib\\site-packages (from h5py) (1.12.0)\n"
     ]
    }
   ],
   "source": [
    "!pip install h5py"
   ]
  },
  {
   "cell_type": "code",
   "execution_count": 11,
   "metadata": {
    "slideshow": {
     "slide_type": "fragment"
    }
   },
   "outputs": [],
   "source": [
    "model.save('C:/Home/Artificial Intelligence/GL Course/boston_housing_lr.h5')"
   ]
  },
  {
   "cell_type": "code",
   "execution_count": null,
   "metadata": {},
   "outputs": [],
   "source": []
  }
 ],
 "metadata": {
  "kernelspec": {
   "display_name": "Python 3",
   "language": "python",
   "name": "python3"
  },
  "language_info": {
   "codemirror_mode": {
    "name": "ipython",
    "version": 3
   },
   "file_extension": ".py",
   "mimetype": "text/x-python",
   "name": "python",
   "nbconvert_exporter": "python",
   "pygments_lexer": "ipython3",
   "version": "3.7.3"
  }
 },
 "nbformat": 4,
 "nbformat_minor": 2
}
