{
 "cells": [
  {
   "cell_type": "code",
   "execution_count": 1,
   "metadata": {},
   "outputs": [],
   "source": [
    "import tensorflow as tf\n",
    "tf.reset_default_graph()\n",
    "tf.set_random_seed(42)"
   ]
  },
  {
   "cell_type": "code",
   "execution_count": 2,
   "metadata": {},
   "outputs": [],
   "source": [
    "(trainX, trainY),(testX, testY) = tf.keras.datasets.mnist.load_data()"
   ]
  },
  {
   "cell_type": "code",
   "execution_count": 6,
   "metadata": {},
   "outputs": [
    {
     "data": {
      "text/plain": [
       "array([5, 0, 4, ..., 5, 6, 8], dtype=uint8)"
      ]
     },
     "execution_count": 6,
     "metadata": {},
     "output_type": "execute_result"
    }
   ],
   "source": [
    "trainY"
   ]
  },
  {
   "cell_type": "code",
   "execution_count": 7,
   "metadata": {},
   "outputs": [],
   "source": [
    "trainY = tf.keras.utils.to_categorical(trainY, num_classes=10)\n",
    "testY = tf.keras.utils.to_categorical(testY, num_classes=10)"
   ]
  },
  {
   "cell_type": "code",
   "execution_count": 10,
   "metadata": {},
   "outputs": [
    {
     "data": {
      "text/plain": [
       "array([[0., 0., 0., ..., 0., 0., 0.],\n",
       "       [1., 0., 0., ..., 0., 0., 0.],\n",
       "       [0., 0., 0., ..., 0., 0., 0.],\n",
       "       ...,\n",
       "       [0., 0., 0., ..., 0., 0., 0.],\n",
       "       [0., 0., 0., ..., 0., 0., 0.],\n",
       "       [0., 0., 0., ..., 0., 1., 0.]], dtype=float32)"
      ]
     },
     "execution_count": 10,
     "metadata": {},
     "output_type": "execute_result"
    }
   ],
   "source": [
    "trainY"
   ]
  },
  {
   "cell_type": "code",
   "execution_count": 11,
   "metadata": {},
   "outputs": [
    {
     "name": "stdout",
     "output_type": "stream",
     "text": [
      "WARNING:tensorflow:From C:\\Users\\Krishna Murthy\\Anaconda3\\envs\\tf--gpu\\lib\\site-packages\\tensorflow\\python\\ops\\resource_variable_ops.py:435: colocate_with (from tensorflow.python.framework.ops) is deprecated and will be removed in a future version.\n",
      "Instructions for updating:\n",
      "Colocations handled automatically by placer.\n"
     ]
    }
   ],
   "source": [
    "#Initialize Sequential model\n",
    "model = tf.keras.models.Sequential()\n",
    "\n",
    "#Reshape data from 2D to 1D -> 28x28 to 784\n",
    "model.add(tf.keras.layers.Reshape((784,),input_shape=(28,28,)))\n",
    "\n",
    "#Normalize the data\n",
    "model.add(tf.keras.layers.BatchNormalization())"
   ]
  },
  {
   "cell_type": "code",
   "execution_count": 12,
   "metadata": {},
   "outputs": [],
   "source": [
    "#Add 1st hidden layer\n",
    "model.add(tf.keras.layers.Dense(200, activation='sigmoid'))"
   ]
  },
  {
   "cell_type": "code",
   "execution_count": 13,
   "metadata": {},
   "outputs": [],
   "source": [
    "#Add 2nd hidden layer\n",
    "model.add(tf.keras.layers.Dense(100, activation='sigmoid'))"
   ]
  },
  {
   "cell_type": "code",
   "execution_count": 14,
   "metadata": {},
   "outputs": [],
   "source": [
    "#Add OUTPUT layer\n",
    "model.add(tf.keras.layers.Dense(10, activation='softmax'))"
   ]
  },
  {
   "cell_type": "code",
   "execution_count": 15,
   "metadata": {},
   "outputs": [],
   "source": [
    "#Create optimizer with non-default learning rate\n",
    "sgd_optimizer = tf.keras.optimizers.SGD(lr=0.03)\n",
    "\n",
    "#Compile the model\n",
    "model.compile(optimizer=sgd_optimizer, loss='categorical_crossentropy', metrics=['accuracy'])"
   ]
  },
  {
   "cell_type": "code",
   "execution_count": 16,
   "metadata": {},
   "outputs": [
    {
     "name": "stdout",
     "output_type": "stream",
     "text": [
      "_________________________________________________________________\n",
      "Layer (type)                 Output Shape              Param #   \n",
      "=================================================================\n",
      "reshape (Reshape)            (None, 784)               0         \n",
      "_________________________________________________________________\n",
      "batch_normalization_v1 (Batc (None, 784)               3136      \n",
      "_________________________________________________________________\n",
      "dense (Dense)                (None, 200)               157000    \n",
      "_________________________________________________________________\n",
      "dense_1 (Dense)              (None, 100)               20100     \n",
      "_________________________________________________________________\n",
      "dense_2 (Dense)              (None, 10)                1010      \n",
      "=================================================================\n",
      "Total params: 181,246\n",
      "Trainable params: 179,678\n",
      "Non-trainable params: 1,568\n",
      "_________________________________________________________________\n"
     ]
    }
   ],
   "source": [
    "model.summary()"
   ]
  },
  {
   "cell_type": "code",
   "execution_count": 17,
   "metadata": {},
   "outputs": [
    {
     "name": "stdout",
     "output_type": "stream",
     "text": [
      "Train on 60000 samples, validate on 10000 samples\n",
      "WARNING:tensorflow:From C:\\Users\\Krishna Murthy\\Anaconda3\\envs\\tf--gpu\\lib\\site-packages\\tensorflow\\python\\ops\\math_ops.py:3066: to_int32 (from tensorflow.python.ops.math_ops) is deprecated and will be removed in a future version.\n",
      "Instructions for updating:\n",
      "Use tf.cast instead.\n",
      "Epoch 1/30\n",
      "60000/60000 [==============================] - 13s 225us/sample - loss: 0.9968 - acc: 0.7597 - val_loss: 0.4236 - val_acc: 0.8914\n",
      "Epoch 2/30\n",
      "60000/60000 [==============================] - 10s 165us/sample - loss: 0.3960 - acc: 0.8886 - val_loss: 0.3085 - val_acc: 0.9098\n",
      "Epoch 3/30\n",
      "60000/60000 [==============================] - 9s 158us/sample - loss: 0.3281 - acc: 0.9040 - val_loss: 0.2759 - val_acc: 0.9181\n",
      "Epoch 4/30\n",
      "60000/60000 [==============================] - 10s 170us/sample - loss: 0.2927 - acc: 0.9142 - val_loss: 0.2536 - val_acc: 0.9237\n",
      "Epoch 5/30\n",
      "60000/60000 [==============================] - 10s 169us/sample - loss: 0.2740 - acc: 0.9198 - val_loss: 0.2374 - val_acc: 0.9304\n",
      "Epoch 6/30\n",
      "60000/60000 [==============================] - 11s 176us/sample - loss: 0.2509 - acc: 0.9255 - val_loss: 0.2231 - val_acc: 0.9340\n",
      "Epoch 7/30\n",
      "60000/60000 [==============================] - 11s 180us/sample - loss: 0.2382 - acc: 0.9288 - val_loss: 0.2101 - val_acc: 0.9375\n",
      "Epoch 8/30\n",
      "60000/60000 [==============================] - 11s 185us/sample - loss: 0.2198 - acc: 0.9358 - val_loss: 0.2000 - val_acc: 0.9415\n",
      "Epoch 9/30\n",
      "60000/60000 [==============================] - 10s 169us/sample - loss: 0.2096 - acc: 0.9386 - val_loss: 0.1922 - val_acc: 0.9449\n",
      "Epoch 10/30\n",
      "60000/60000 [==============================] - 10s 165us/sample - loss: 0.1968 - acc: 0.9425 - val_loss: 0.1825 - val_acc: 0.9460\n",
      "Epoch 11/30\n",
      "60000/60000 [==============================] - 10s 170us/sample - loss: 0.1851 - acc: 0.9456 - val_loss: 0.1750 - val_acc: 0.9483\n",
      "Epoch 12/30\n",
      "60000/60000 [==============================] - 10s 166us/sample - loss: 0.1760 - acc: 0.9484 - val_loss: 0.1689 - val_acc: 0.9503\n",
      "Epoch 13/30\n",
      "60000/60000 [==============================] - 11s 183us/sample - loss: 0.1660 - acc: 0.9513 - val_loss: 0.1643 - val_acc: 0.9515\n",
      "Epoch 14/30\n",
      "60000/60000 [==============================] - 11s 191us/sample - loss: 0.1565 - acc: 0.9545 - val_loss: 0.1558 - val_acc: 0.9535\n",
      "Epoch 15/30\n",
      "60000/60000 [==============================] - 11s 179us/sample - loss: 0.1494 - acc: 0.9563 - val_loss: 0.1499 - val_acc: 0.9566\n",
      "Epoch 16/30\n",
      "60000/60000 [==============================] - 9s 156us/sample - loss: 0.1432 - acc: 0.9582 - val_loss: 0.1453 - val_acc: 0.9587\n",
      "Epoch 17/30\n",
      "60000/60000 [==============================] - 9s 149us/sample - loss: 0.1342 - acc: 0.9604 - val_loss: 0.1439 - val_acc: 0.9583\n",
      "Epoch 18/30\n",
      "60000/60000 [==============================] - 9s 156us/sample - loss: 0.1274 - acc: 0.9627 - val_loss: 0.1414 - val_acc: 0.9595\n",
      "Epoch 19/30\n",
      "60000/60000 [==============================] - 10s 172us/sample - loss: 0.1235 - acc: 0.9641 - val_loss: 0.1367 - val_acc: 0.9604\n",
      "Epoch 20/30\n",
      "60000/60000 [==============================] - 11s 190us/sample - loss: 0.1152 - acc: 0.9663 - val_loss: 0.1315 - val_acc: 0.9628\n",
      "Epoch 21/30\n",
      "60000/60000 [==============================] - 12s 208us/sample - loss: 0.1117 - acc: 0.9671 - val_loss: 0.1279 - val_acc: 0.9629\n",
      "Epoch 22/30\n",
      "60000/60000 [==============================] - 13s 212us/sample - loss: 0.1049 - acc: 0.9693 - val_loss: 0.1271 - val_acc: 0.9643\n",
      "Epoch 23/30\n",
      "60000/60000 [==============================] - 12s 198us/sample - loss: 0.1007 - acc: 0.9710 - val_loss: 0.1234 - val_acc: 0.9642\n",
      "Epoch 24/30\n",
      "60000/60000 [==============================] - 11s 185us/sample - loss: 0.0962 - acc: 0.9721 - val_loss: 0.1191 - val_acc: 0.9659\n",
      "Epoch 25/30\n",
      "60000/60000 [==============================] - 10s 166us/sample - loss: 0.0920 - acc: 0.9731 - val_loss: 0.1202 - val_acc: 0.9667\n",
      "Epoch 26/30\n",
      "60000/60000 [==============================] - 10s 167us/sample - loss: 0.0875 - acc: 0.9747 - val_loss: 0.1116 - val_acc: 0.9673\n",
      "Epoch 27/30\n",
      "60000/60000 [==============================] - 10s 163us/sample - loss: 0.0828 - acc: 0.9765 - val_loss: 0.1142 - val_acc: 0.9671\n",
      "Epoch 28/30\n",
      "60000/60000 [==============================] - 11s 177us/sample - loss: 0.0793 - acc: 0.9770 - val_loss: 0.1147 - val_acc: 0.9675\n",
      "Epoch 29/30\n",
      "60000/60000 [==============================] - 10s 164us/sample - loss: 0.0765 - acc: 0.9776 - val_loss: 0.1132 - val_acc: 0.9678\n",
      "Epoch 30/30\n",
      "60000/60000 [==============================] - 9s 156us/sample - loss: 0.0731 - acc: 0.9791 - val_loss: 0.1144 - val_acc: 0.9674\n"
     ]
    },
    {
     "data": {
      "text/plain": [
       "<tensorflow.python.keras.callbacks.History at 0x224a0720908>"
      ]
     },
     "execution_count": 17,
     "metadata": {},
     "output_type": "execute_result"
    }
   ],
   "source": [
    "model.fit(trainX,trainY,          \n",
    "          validation_data=(testX,testY),\n",
    "          epochs=30,\n",
    "          batch_size=32)"
   ]
  },
  {
   "cell_type": "code",
   "execution_count": null,
   "metadata": {},
   "outputs": [],
   "source": []
  }
 ],
 "metadata": {
  "kernelspec": {
   "display_name": "Python 3",
   "language": "python",
   "name": "python3"
  },
  "language_info": {
   "codemirror_mode": {
    "name": "ipython",
    "version": 3
   },
   "file_extension": ".py",
   "mimetype": "text/x-python",
   "name": "python",
   "nbconvert_exporter": "python",
   "pygments_lexer": "ipython3",
   "version": "3.7.3"
  }
 },
 "nbformat": 4,
 "nbformat_minor": 2
}
